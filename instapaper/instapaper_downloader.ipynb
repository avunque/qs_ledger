{
  "nbformat": 4,
  "nbformat_minor": 0,
  "metadata": {
    "kernelspec": {
      "display_name": "Python 3",
      "language": "python",
      "name": "python3"
    },
    "language_info": {
      "codemirror_mode": {
        "name": "ipython",
        "version": 3
      },
      "file_extension": ".py",
      "mimetype": "text/x-python",
      "name": "python",
      "nbconvert_exporter": "python",
      "pygments_lexer": "ipython3",
      "version": "3.6.2"
    },
    "colab": {
      "name": "instapaper_downloader.ipynb",
      "provenance": []
    }
  },
  "cells": [
    {
      "cell_type": "markdown",
      "metadata": {
        "id": "UG_lVgFU-dYh",
        "colab_type": "text"
      },
      "source": [
        "# Instapaper Downloader\n",
        "\n",
        "Want to know how many articles you've read and have to read in Instaspaper? Want to collect your highlighted passages? Get your Bookmarks, Articles, and Highlights Data from Instapaper!\n",
        "\n",
        "This code integrates with [Instapaper's API](https://www.instapaper.com/api). See [Instapaper's API Terms](https://www.instapaper.com/api/terms) for more info on terms of usage.  It's part of [QS Ledger](https://github.com/markwk/qs_ledger). "
      ]
    },
    {
      "cell_type": "markdown",
      "metadata": {
        "id": "yfRH-IEA-dYs",
        "colab_type": "text"
      },
      "source": [
        "-----"
      ]
    },
    {
      "cell_type": "markdown",
      "metadata": {
        "id": "2MN0-lD9-dY2",
        "colab_type": "text"
      },
      "source": [
        "## Requirements:\n",
        "\n",
        "* Pandas. Install with command: `$ pip install pandas`\n",
        "* [PyInstapaper](https://github.com/mdorn/pyinstapaper): Install with command: `$ pip install pyinstapaper`"
      ]
    },
    {
      "cell_type": "code",
      "metadata": {
        "id": "szno6Fbw-nJR",
        "colab_type": "code",
        "colab": {
          "base_uri": "https://localhost:8080/",
          "height": 104
        },
        "outputId": "2dfc7f5f-589f-4334-b55c-451dd8e48bb7"
      },
      "source": [
        "!pip install pandas"
      ],
      "execution_count": 2,
      "outputs": [
        {
          "output_type": "stream",
          "text": [
            "Requirement already satisfied: pandas in /usr/local/lib/python3.6/dist-packages (0.25.3)\n",
            "Requirement already satisfied: pytz>=2017.2 in /usr/local/lib/python3.6/dist-packages (from pandas) (2018.9)\n",
            "Requirement already satisfied: python-dateutil>=2.6.1 in /usr/local/lib/python3.6/dist-packages (from pandas) (2.6.1)\n",
            "Requirement already satisfied: numpy>=1.13.3 in /usr/local/lib/python3.6/dist-packages (from pandas) (1.17.5)\n",
            "Requirement already satisfied: six>=1.5 in /usr/local/lib/python3.6/dist-packages (from python-dateutil>=2.6.1->pandas) (1.12.0)\n"
          ],
          "name": "stdout"
        }
      ]
    },
    {
      "cell_type": "code",
      "metadata": {
        "id": "spAsT5oD-6BD",
        "colab_type": "code",
        "colab": {
          "base_uri": "https://localhost:8080/",
          "height": 367
        },
        "outputId": "6265c5de-5e8a-4606-b4fd-66a01b5cfe7a"
      },
      "source": [
        "!pip install pyinstapaper"
      ],
      "execution_count": 3,
      "outputs": [
        {
          "output_type": "stream",
          "text": [
            "Collecting pyinstapaper\n",
            "  Downloading https://files.pythonhosted.org/packages/5e/0b/0883ada9692b8398faf35cb20b8c3ca79cde71ec43f693beb1c453166462/pyinstapaper-0.2.2-py2.py3-none-any.whl\n",
            "Requirement already satisfied: future in /usr/local/lib/python3.6/dist-packages (from pyinstapaper) (0.16.0)\n",
            "Collecting oauth2<2,>=1.9\n",
            "  Downloading https://files.pythonhosted.org/packages/a0/6f/86db603912ecd04109af952c38bc08928886cf0e34c723481fa7db98b4b5/oauth2-1.9.0.post1-py2.py3-none-any.whl\n",
            "Requirement already satisfied: httplib2>=0.9 in /usr/local/lib/python3.6/dist-packages (from pyinstapaper) (0.11.3)\n",
            "Collecting lxml<=4,>=3.4\n",
            "\u001b[?25l  Downloading https://files.pythonhosted.org/packages/a0/b5/4c6995f8f259f0858f79460e6d277888f8498ce1c1a466dfbb24f06ba83f/lxml-4.0.0-cp36-cp36m-manylinux1_x86_64.whl (5.3MB)\n",
            "\u001b[K     |████████████████████████████████| 5.3MB 5.1MB/s \n",
            "\u001b[?25hRequirement already satisfied: requests<3,>=2.7 in /usr/local/lib/python3.6/dist-packages (from pyinstapaper) (2.21.0)\n",
            "Requirement already satisfied: urllib3<1.25,>=1.21.1 in /usr/local/lib/python3.6/dist-packages (from requests<3,>=2.7->pyinstapaper) (1.24.3)\n",
            "Requirement already satisfied: chardet<3.1.0,>=3.0.2 in /usr/local/lib/python3.6/dist-packages (from requests<3,>=2.7->pyinstapaper) (3.0.4)\n",
            "Requirement already satisfied: idna<2.9,>=2.5 in /usr/local/lib/python3.6/dist-packages (from requests<3,>=2.7->pyinstapaper) (2.8)\n",
            "Requirement already satisfied: certifi>=2017.4.17 in /usr/local/lib/python3.6/dist-packages (from requests<3,>=2.7->pyinstapaper) (2019.11.28)\n",
            "Installing collected packages: oauth2, lxml, pyinstapaper\n",
            "  Found existing installation: lxml 4.2.6\n",
            "    Uninstalling lxml-4.2.6:\n",
            "      Successfully uninstalled lxml-4.2.6\n",
            "Successfully installed lxml-4.0.0 oauth2-1.9.0.post1 pyinstapaper-0.2.2\n"
          ],
          "name": "stdout"
        }
      ]
    },
    {
      "cell_type": "code",
      "metadata": {
        "id": "bwJo5O1y-dY7",
        "colab_type": "code",
        "colab": {}
      },
      "source": [
        "# dependencies\n",
        "import pandas as pd\n",
        "from pyinstapaper.instapaper import Instapaper, Folder"
      ],
      "execution_count": 0,
      "outputs": []
    },
    {
      "cell_type": "markdown",
      "metadata": {
        "id": "IVKDP-AX-dZZ",
        "colab_type": "text"
      },
      "source": [
        "-----"
      ]
    },
    {
      "cell_type": "markdown",
      "metadata": {
        "id": "xXIxpSTA-dZj",
        "colab_type": "text"
      },
      "source": [
        "## Instapaper Developer Setup and Authentification"
      ]
    },
    {
      "cell_type": "markdown",
      "metadata": {
        "id": "Q-dQC0DP-dZn",
        "colab_type": "text"
      },
      "source": [
        "Note: Once you get your app approved by Instapaper, this actual setup should only take a few minutes. \n",
        "\n",
        "### Step 1: Request Developer Access \n",
        "\n",
        "* Create an app and request Oauth Consumer token on Instapaper's Developer API: https://www.instapaper.com/main/request_oauth_consumer_token. \n",
        "* NOTE: This may take a day or more depending on human review. \n",
        "\n",
        "### Step 2: Add Credentials to credentials.json\n",
        "\n",
        "* Clone sample-credentials.json and save as credentials.json\n",
        "* Copy your Consumer ID and Consumer Secret to credentials.json\n",
        "* Copy your login and password to credentials.json."
      ]
    },
    {
      "cell_type": "code",
      "metadata": {
        "id": "YVT_EhnG-dZr",
        "colab_type": "code",
        "colab": {
          "base_uri": "https://localhost:8080/",
          "height": 234
        },
        "outputId": "7bfda901-e2e6-4605-b5e0-987a1d47225d"
      },
      "source": [
        "# get stored credentials\n",
        "import json\n",
        "\n",
        "with open(\"credentials.json\", \"r\") as file:\n",
        "   credentials = json.load(file)\n",
        "   instapaper_cr = credentials['instapaper']\n",
        "   CONSUMERID = instapaper_cr['CONSUMERID'] # step 1 your consumer key\n",
        "   CONSUMERSECRET = instapaper_cr['CONSUMERSECRET'] # step 1 your consumer key\n",
        "   INSTAPAPER_LOGIN = instapaper_cr['LOGIN']\n",
        "   INSTAPAPER_PASSWORD = instapaper_cr['PASSWORD']"
      ],
      "execution_count": 5,
      "outputs": [
        {
          "output_type": "error",
          "ename": "FileNotFoundError",
          "evalue": "ignored",
          "traceback": [
            "\u001b[0;31m---------------------------------------------------------------------------\u001b[0m",
            "\u001b[0;31mFileNotFoundError\u001b[0m                         Traceback (most recent call last)",
            "\u001b[0;32m<ipython-input-5-fae7cf3cea21>\u001b[0m in \u001b[0;36m<module>\u001b[0;34m()\u001b[0m\n\u001b[1;32m      1\u001b[0m \u001b[0;32mimport\u001b[0m \u001b[0mjson\u001b[0m\u001b[0;34m\u001b[0m\u001b[0;34m\u001b[0m\u001b[0m\n\u001b[1;32m      2\u001b[0m \u001b[0;34m\u001b[0m\u001b[0m\n\u001b[0;32m----> 3\u001b[0;31m \u001b[0;32mwith\u001b[0m \u001b[0mopen\u001b[0m\u001b[0;34m(\u001b[0m\u001b[0;34m\"credentials.json\"\u001b[0m\u001b[0;34m,\u001b[0m \u001b[0;34m\"r\"\u001b[0m\u001b[0;34m)\u001b[0m \u001b[0;32mas\u001b[0m \u001b[0mfile\u001b[0m\u001b[0;34m:\u001b[0m\u001b[0;34m\u001b[0m\u001b[0;34m\u001b[0m\u001b[0m\n\u001b[0m\u001b[1;32m      4\u001b[0m    \u001b[0mcredentials\u001b[0m \u001b[0;34m=\u001b[0m \u001b[0mjson\u001b[0m\u001b[0;34m.\u001b[0m\u001b[0mload\u001b[0m\u001b[0;34m(\u001b[0m\u001b[0mfile\u001b[0m\u001b[0;34m)\u001b[0m\u001b[0;34m\u001b[0m\u001b[0;34m\u001b[0m\u001b[0m\n\u001b[1;32m      5\u001b[0m    \u001b[0minstapaper_cr\u001b[0m \u001b[0;34m=\u001b[0m \u001b[0mcredentials\u001b[0m\u001b[0;34m[\u001b[0m\u001b[0;34m'instapaper'\u001b[0m\u001b[0;34m]\u001b[0m\u001b[0;34m\u001b[0m\u001b[0;34m\u001b[0m\u001b[0m\n",
            "\u001b[0;31mFileNotFoundError\u001b[0m: [Errno 2] No such file or directory: 'credentials.json'"
          ]
        }
      ]
    },
    {
      "cell_type": "code",
      "metadata": {
        "id": "rcyK-y_q-dZ8",
        "colab_type": "code",
        "colab": {}
      },
      "source": [
        "# api login \n",
        "instapaper = Instapaper(CONSUMERID, CONSUMERSECRET)\n",
        "instapaper.login(INSTAPAPER_LOGIN, INSTAPAPER_PASSWORD)"
      ],
      "execution_count": 0,
      "outputs": []
    },
    {
      "cell_type": "markdown",
      "metadata": {
        "id": "NDdC7lG0-daJ",
        "colab_type": "text"
      },
      "source": [
        "-----"
      ]
    },
    {
      "cell_type": "markdown",
      "metadata": {
        "id": "gX2uZDoQ-daN",
        "colab_type": "text"
      },
      "source": [
        "## Get Unread Articles "
      ]
    },
    {
      "cell_type": "code",
      "metadata": {
        "id": "rt6rupe--daR",
        "colab_type": "code",
        "colab": {},
        "outputId": "d3cfb2d6-ee49-4775-9aee-565a26d723ce"
      },
      "source": [
        "# get unread\n",
        "(print(\"Getting unread bookmarks from Instapaper\"))\n",
        "unread = instapaper.get_bookmarks('unread', limit=500)\n",
        "\n",
        "unread_list = []\n",
        "for i in unread:\n",
        "    unread_dict = {\n",
        "        'bookmark_id': i.bookmark_id,\n",
        "        'title': i.title,\n",
        "        'url': i.url,\n",
        "        'progress_timestamp': i.progress_timestamp,\n",
        "        'time': i.time,\n",
        "        'progress': i.progress,\n",
        "        'starred': i.starred,\n",
        "        'type': i.type,\n",
        "        'private_source': i.private_source,\n",
        "        'read_status': 'unread'\n",
        "    }\n",
        "    unread_list.append(unread_dict)\n",
        "\n",
        "# total unread\n",
        "print(\"{} unread articles in Instapaper\".format(len(unread_list)))\n",
        "\n",
        "# create df and export \n",
        "unread_df = pd.DataFrame(unread_list)\n",
        "unread_df.to_csv(\"data/instapaper_unread.csv\", index=False)\n",
        "print(\"Exported to CSV\")"
      ],
      "execution_count": 0,
      "outputs": [
        {
          "output_type": "stream",
          "text": [
            "Getting unread bookmarks from Instapaper\n",
            "219 unread articles in Instapaper\n",
            "Exported to CSV\n"
          ],
          "name": "stdout"
        }
      ]
    },
    {
      "cell_type": "markdown",
      "metadata": {
        "id": "cdkgpXqY-dae",
        "colab_type": "text"
      },
      "source": [
        "-----"
      ]
    },
    {
      "cell_type": "markdown",
      "metadata": {
        "id": "se3IHp7F-dah",
        "colab_type": "text"
      },
      "source": [
        "## Get Read Articles "
      ]
    },
    {
      "cell_type": "code",
      "metadata": {
        "id": "q2HzL7bO-daj",
        "colab_type": "code",
        "colab": {},
        "outputId": "72091fd7-6f7f-46b5-db14-545e6fab7b97"
      },
      "source": [
        "# get read\n",
        "(print(\"Getting read bookmarks from Instapaper\"))\n",
        "read = instapaper.get_bookmarks('archive', limit=500)\n",
        "\n",
        "read_list = []\n",
        "for i in read:\n",
        "    read_dict = {\n",
        "        'bookmark_id': i.bookmark_id,\n",
        "        'title': i.title,\n",
        "        'url': i.url,\n",
        "        'progress_timestamp': i.progress_timestamp,\n",
        "        'time': i.time,\n",
        "        'progress': i.progress,\n",
        "        'starred': i.starred,\n",
        "        'type': i.type, \n",
        "        'private_source': i.private_source,\n",
        "        'read_status': 'read'\n",
        "    }\n",
        "    read_list.append(read_dict)\n",
        "\n",
        "# create df and export \n",
        "read_df = pd.DataFrame(read_list)\n",
        "read_df.to_csv(\"data/instapaper_read.csv\", index=False)\n",
        "print(\"Exported {} read articles from Instapaper\".format(len(read_list)))"
      ],
      "execution_count": 0,
      "outputs": [
        {
          "output_type": "stream",
          "text": [
            "Getting read bookmarks from Instapaper\n",
            "Exported 500 read articles from Instapaper\n"
          ],
          "name": "stdout"
        }
      ]
    },
    {
      "cell_type": "markdown",
      "metadata": {
        "id": "9GmKL5Tj-daz",
        "colab_type": "text"
      },
      "source": [
        "------"
      ]
    },
    {
      "cell_type": "markdown",
      "metadata": {
        "id": "RmTe4w16-da2",
        "colab_type": "text"
      },
      "source": [
        "## Get Highlights"
      ]
    },
    {
      "cell_type": "code",
      "metadata": {
        "id": "YUkmhPQU-da5",
        "colab_type": "code",
        "colab": {},
        "outputId": "92b65930-92f7-4d9d-c4e3-21fbae0a65c9"
      },
      "source": [
        "# NOTE: Unfortunately there is no direct method to get just the highlights \n",
        "# So we are looping through each archived bookmark item and running get_highlights()\n",
        "\n",
        "print(\"Checking for Highlights from each bookmark...\")\n",
        "print(\"This might take some time.\")\n",
        "\n",
        "highlights_list = []\n",
        "\n",
        "for bm in read:\n",
        "    highlights = bm.get_highlights()\n",
        "    for i in highlights:\n",
        "        highlight_dict = {\n",
        "            'highlight_id': i.highlight_id,\n",
        "            'text': i.text,\n",
        "            'note': i.note,\n",
        "            'time': i.time,\n",
        "            'position': i.position,\n",
        "            'bookmark_id': i.bookmark_id,\n",
        "            'type': i.type,\n",
        "            'slug': i.slug,\n",
        "        }\n",
        "        highlights_list.append(highlight_dict)\n",
        "\n",
        "higlights_df = pd.DataFrame(highlights_list)\n",
        "higlights_df.to_csv(\"data/instapaper_highlights.csv\", index=False)\n",
        "print(\"Exported {} Highlights from Instapaper\".format(len(higlights_df)))"
      ],
      "execution_count": 0,
      "outputs": [
        {
          "output_type": "stream",
          "text": [
            "Checking for Highlights from each bookmark...\n",
            "This might take some time.\n",
            "Exported 285 Highlights from Instapaper\n"
          ],
          "name": "stdout"
        }
      ]
    },
    {
      "cell_type": "code",
      "metadata": {
        "id": "YQX6Unch-dbD",
        "colab_type": "code",
        "colab": {}
      },
      "source": [
        ""
      ],
      "execution_count": 0,
      "outputs": []
    }
  ]
}